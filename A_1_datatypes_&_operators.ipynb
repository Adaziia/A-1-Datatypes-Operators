{
  "nbformat": 4,
  "nbformat_minor": 0,
  "metadata": {
    "colab": {
      "provenance": []
    },
    "kernelspec": {
      "name": "python3",
      "display_name": "Python 3"
    },
    "language_info": {
      "name": "python"
    }
  },
  "cells": [
    {
      "cell_type": "markdown",
      "source": [
        "1. What is the result of the following expression\n",
        "5+3*2"
      ],
      "metadata": {
        "id": "Aw9DGz_9iyoC"
      }
    },
    {
      "cell_type": "code",
      "source": [
        "print(5+3*2)"
      ],
      "metadata": {
        "colab": {
          "base_uri": "https://localhost:8080/"
        },
        "id": "qi0aemMOjCha",
        "outputId": "cc50e809-9757-4ea1-f71e-ce935765d8af"
      },
      "execution_count": null,
      "outputs": [
        {
          "output_type": "stream",
          "name": "stdout",
          "text": [
            "11\n"
          ]
        }
      ]
    },
    {
      "cell_type": "markdown",
      "source": [
        "2. What is the output of the following code\n",
        "x=5, y=10,\n",
        "x+=y,\n",
        "print(x)"
      ],
      "metadata": {
        "id": "t2-U4FqmjJbd"
      }
    },
    {
      "cell_type": "code",
      "source": [
        "x=5\n",
        "y=10\n",
        "x+=y\n",
        "print(y)"
      ],
      "metadata": {
        "colab": {
          "base_uri": "https://localhost:8080/"
        },
        "id": "AMT3g5HmjYv5",
        "outputId": "18ec5880-8bce-4f70-bb0c-f6bcbb06b140"
      },
      "execution_count": null,
      "outputs": [
        {
          "output_type": "stream",
          "name": "stdout",
          "text": [
            "10\n"
          ]
        }
      ]
    },
    {
      "cell_type": "markdown",
      "source": [
        "3. Evaluate the following boolean expression\n",
        "(10>5) and (not(5>10))"
      ],
      "metadata": {
        "id": "1MGz-_eAlHyM"
      }
    },
    {
      "cell_type": "code",
      "source": [
        "print(10>5)and (not(5>10))"
      ],
      "metadata": {
        "colab": {
          "base_uri": "https://localhost:8080/"
        },
        "id": "SMwbILWclS86",
        "outputId": "f7854833-76c9-4f7f-f747-9c1a38d6bd01"
      },
      "execution_count": null,
      "outputs": [
        {
          "output_type": "stream",
          "name": "stdout",
          "text": [
            "True\n"
          ]
        }
      ]
    },
    {
      "cell_type": "markdown",
      "source": [
        "4. What is the result of the following division 7/2"
      ],
      "metadata": {
        "id": "1NCPm4J4lcF0"
      }
    },
    {
      "cell_type": "code",
      "source": [
        "print(7/2)"
      ],
      "metadata": {
        "colab": {
          "base_uri": "https://localhost:8080/"
        },
        "id": "p7N9KezXllT7",
        "outputId": "86459fbf-72aa-40ca-a7c5-85c1629fc646"
      },
      "execution_count": null,
      "outputs": [
        {
          "output_type": "stream",
          "name": "stdout",
          "text": [
            "3.5\n"
          ]
        }
      ]
    },
    {
      "cell_type": "markdown",
      "source": [
        "5. What will be the value and type of 'x' after the following operator x=4//2"
      ],
      "metadata": {
        "id": "_rkgp4efloyW"
      }
    },
    {
      "cell_type": "code",
      "source": [
        "x=4//2\n",
        "print(x)\n",
        "type(x)"
      ],
      "metadata": {
        "colab": {
          "base_uri": "https://localhost:8080/"
        },
        "id": "oswi58qJl6rf",
        "outputId": "6142334b-9129-4dd6-a851-3a901bae1990"
      },
      "execution_count": null,
      "outputs": [
        {
          "output_type": "stream",
          "name": "stdout",
          "text": [
            "2\n"
          ]
        },
        {
          "output_type": "execute_result",
          "data": {
            "text/plain": [
              "int"
            ]
          },
          "metadata": {},
          "execution_count": 5
        }
      ]
    },
    {
      "cell_type": "markdown",
      "source": [
        "6. What is the output of the following code?\n",
        "a=[1,2,3],\n",
        "b=a,\n",
        "b[0]=4,\n",
        "print(a)"
      ],
      "metadata": {
        "id": "3n2rVM4fmDAj"
      }
    },
    {
      "cell_type": "code",
      "source": [
        "a=[1,2,3]\n",
        "b=a\n",
        "b[0]=4\n",
        "print(a)"
      ],
      "metadata": {
        "colab": {
          "base_uri": "https://localhost:8080/"
        },
        "id": "U-5wMyAumXpG",
        "outputId": "d6b4fd73-ecad-43ea-bd93-c3a687c40fde"
      },
      "execution_count": null,
      "outputs": [
        {
          "output_type": "stream",
          "name": "stdout",
          "text": [
            "[4, 2, 3]\n"
          ]
        }
      ]
    },
    {
      "cell_type": "markdown",
      "source": [
        "7. What does the following slice operation return\n",
        "S=\"hello\"\n",
        "print(S[1:4])"
      ],
      "metadata": {
        "id": "Wx32QeAEminj"
      }
    },
    {
      "cell_type": "code",
      "source": [
        "S=\"hello\"\n",
        "T=(S[1:4])\n",
        "print(T)\n"
      ],
      "metadata": {
        "colab": {
          "base_uri": "https://localhost:8080/"
        },
        "id": "932tsGtumxQy",
        "outputId": "1966be77-b3fa-4e6e-a4df-c5ad2321fba2"
      },
      "execution_count": null,
      "outputs": [
        {
          "output_type": "stream",
          "name": "stdout",
          "text": [
            "ell\n"
          ]
        }
      ]
    },
    {
      "cell_type": "markdown",
      "source": [
        "8. What will be the value of 'result'\n",
        "result= 2**3**2"
      ],
      "metadata": {
        "id": "5baUBvVnnRN0"
      }
    },
    {
      "cell_type": "code",
      "source": [
        "result=2**3**2\n",
        "print(result)"
      ],
      "metadata": {
        "colab": {
          "base_uri": "https://localhost:8080/"
        },
        "id": "lYhjBX2TnbDb",
        "outputId": "3e1db1cd-3977-4030-c493-c2233e0aec77"
      },
      "execution_count": null,
      "outputs": [
        {
          "output_type": "stream",
          "name": "stdout",
          "text": [
            "512\n"
          ]
        }
      ]
    },
    {
      "cell_type": "markdown",
      "source": [
        "9.Given the list a=[1,2,3,4,5] what will be the result of a[::-1]?"
      ],
      "metadata": {
        "id": "HaOzuCwrnoMe"
      }
    },
    {
      "cell_type": "code",
      "source": [
        "a=[1,2,3,4,5]\n",
        "print(a[::-1])"
      ],
      "metadata": {
        "colab": {
          "base_uri": "https://localhost:8080/"
        },
        "id": "U-ZfDyCnn1mU",
        "outputId": "783ff6f8-5d15-41fb-8a75-38bf93f4d99a"
      },
      "execution_count": null,
      "outputs": [
        {
          "output_type": "stream",
          "name": "stdout",
          "text": [
            "[5, 4, 3, 2, 1]\n"
          ]
        }
      ]
    },
    {
      "cell_type": "markdown",
      "source": [],
      "metadata": {
        "id": "mIO6QZiXizyc"
      }
    },
    {
      "cell_type": "markdown",
      "source": [
        "10. Evaluate the following expression 10%3\n"
      ],
      "metadata": {
        "id": "EsIFtZa1oZaF"
      }
    },
    {
      "cell_type": "code",
      "source": [
        "print(10%3)"
      ],
      "metadata": {
        "colab": {
          "base_uri": "https://localhost:8080/"
        },
        "id": "AUKeYdSiol9x",
        "outputId": "f2e0fadf-acc7-42e8-8dd6-65e91a20fdaa"
      },
      "execution_count": 15,
      "outputs": [
        {
          "output_type": "stream",
          "name": "stdout",
          "text": [
            "1\n"
          ]
        }
      ]
    },
    {
      "cell_type": "markdown",
      "source": [
        "11. What is the result of the following code\n",
        "x=[1,2,3]\n",
        "y=[1,2,3]\n",
        "print(x==y)\n",
        "print(x is y)"
      ],
      "metadata": {
        "id": "FUfRCKDTor1P"
      }
    },
    {
      "cell_type": "code",
      "source": [
        "x=[1,2,3]\n",
        "y=[1,2,3]\n",
        "print(x==y)\n",
        "print(x is y)"
      ],
      "metadata": {
        "colab": {
          "base_uri": "https://localhost:8080/"
        },
        "id": "Y2qL3JuBo6_3",
        "outputId": "f2171d8e-adc4-4a03-f7b8-3015f9fb5ce8"
      },
      "execution_count": 16,
      "outputs": [
        {
          "output_type": "stream",
          "name": "stdout",
          "text": [
            "True\n",
            "False\n"
          ]
        }
      ]
    },
    {
      "cell_type": "markdown",
      "source": [
        "12. What is the output of the following code.\n",
        "x=\"python\",\n",
        "y=x*3,\n",
        "print(y)"
      ],
      "metadata": {
        "id": "3wbl3PR-pEFB"
      }
    },
    {
      "cell_type": "code",
      "source": [
        "x=\"Python\"\n",
        "y=x*3\n",
        "print(y)"
      ],
      "metadata": {
        "colab": {
          "base_uri": "https://localhost:8080/"
        },
        "id": "lDiERysApVAZ",
        "outputId": "57db29e2-5a61-46a1-9be5-233c1bb6f70a"
      },
      "execution_count": 17,
      "outputs": [
        {
          "output_type": "stream",
          "name": "stdout",
          "text": [
            "PythonPythonPython\n"
          ]
        }
      ]
    },
    {
      "cell_type": "markdown",
      "source": [
        "13. What is the type and value of the 'x' after the following operation\n",
        "x=True + 1"
      ],
      "metadata": {
        "id": "t0HTFiXYpehU"
      }
    },
    {
      "cell_type": "code",
      "source": [
        "x=True + 1\n",
        "print(x)\n",
        "type(x)"
      ],
      "metadata": {
        "colab": {
          "base_uri": "https://localhost:8080/"
        },
        "id": "Gpo165D4prR_",
        "outputId": "a84e1ca9-bee5-4e36-dd65-c1f7643f24b4"
      },
      "execution_count": 18,
      "outputs": [
        {
          "output_type": "stream",
          "name": "stdout",
          "text": [
            "2\n"
          ]
        },
        {
          "output_type": "execute_result",
          "data": {
            "text/plain": [
              "int"
            ]
          },
          "metadata": {},
          "execution_count": 18
        }
      ]
    },
    {
      "cell_type": "markdown",
      "source": [
        "14. What will be the output of the following comparison\n",
        "print('abd'<'abd)"
      ],
      "metadata": {
        "id": "_mNUZBeApzEV"
      }
    },
    {
      "cell_type": "code",
      "source": [
        "print('abc'<'abd')"
      ],
      "metadata": {
        "colab": {
          "base_uri": "https://localhost:8080/"
        },
        "id": "lLx8mduWp81P",
        "outputId": "6c4aa447-4135-42ca-bf17-4287b8418e4a"
      },
      "execution_count": 19,
      "outputs": [
        {
          "output_type": "stream",
          "name": "stdout",
          "text": [
            "True\n"
          ]
        }
      ]
    },
    {
      "cell_type": "markdown",
      "source": [
        "15. What is the result of the following code\n",
        "d={'a':1,'b':2},\n",
        "d['c']=3,\n",
        "print(d)"
      ],
      "metadata": {
        "id": "stcZz9ahqBzO"
      }
    },
    {
      "cell_type": "code",
      "source": [
        "d={'a':1,'b':2}\n",
        "d['c']=3\n",
        "print(d)"
      ],
      "metadata": {
        "colab": {
          "base_uri": "https://localhost:8080/"
        },
        "id": "_dHVyVHmqQY0",
        "outputId": "74524547-c906-4482-9573-11e0d7463751"
      },
      "execution_count": 21,
      "outputs": [
        {
          "output_type": "stream",
          "name": "stdout",
          "text": [
            "{'a': 1, 'b': 2, 'c': 3}\n"
          ]
        }
      ]
    },
    {
      "cell_type": "markdown",
      "source": [
        "16. What will be the value of 'a' after the following operation\n",
        "a=\"123\",\n",
        "a+=\"456\""
      ],
      "metadata": {
        "id": "9eA7N4-Gqlqn"
      }
    },
    {
      "cell_type": "code",
      "source": [
        "a=\"123\"\n",
        "a+=\"456\"\n",
        "print(a)"
      ],
      "metadata": {
        "colab": {
          "base_uri": "https://localhost:8080/"
        },
        "id": "okQCvkJEq4n6",
        "outputId": "c5407612-c4d3-40cb-cc5c-0358dec0bb8b"
      },
      "execution_count": 22,
      "outputs": [
        {
          "output_type": "stream",
          "name": "stdout",
          "text": [
            "123456\n"
          ]
        }
      ]
    },
    {
      "cell_type": "markdown",
      "source": [
        "17. What is the output of the following code\n",
        "a=[1,2,3],\n",
        "b=a[:],\n",
        "b.append(4),\n",
        "print(a),\n",
        "print(b)."
      ],
      "metadata": {
        "id": "2QwBU9Nxq-mX"
      }
    },
    {
      "cell_type": "code",
      "source": [
        "a=[1,2,3]\n",
        "b=a[:]\n",
        "b.append(4)\n",
        "print(a)\n",
        "print(b)"
      ],
      "metadata": {
        "colab": {
          "base_uri": "https://localhost:8080/"
        },
        "id": "flBCV91zq2Bt",
        "outputId": "72298a0c-7083-4697-f104-70ed2ee17e44"
      },
      "execution_count": 23,
      "outputs": [
        {
          "output_type": "stream",
          "name": "stdout",
          "text": [
            "[1, 2, 3]\n",
            "[1, 2, 3, 4]\n"
          ]
        }
      ]
    },
    {
      "cell_type": "markdown",
      "source": [
        "18. Evaluate the following expression\n",
        "3*(2+4)**2"
      ],
      "metadata": {
        "id": "dQCkWA4rre4y"
      }
    },
    {
      "cell_type": "code",
      "source": [
        "print(3*(2+4)**2)"
      ],
      "metadata": {
        "colab": {
          "base_uri": "https://localhost:8080/"
        },
        "id": "EJ1EppibrwBX",
        "outputId": "823aa28a-583c-4489-bb44-5a0c9a7126e1"
      },
      "execution_count": 24,
      "outputs": [
        {
          "output_type": "stream",
          "name": "stdout",
          "text": [
            "108\n"
          ]
        }
      ]
    },
    {
      "cell_type": "markdown",
      "source": [
        "19. What will be the result of the following comparison\n",
        "print(5==5.0)"
      ],
      "metadata": {
        "id": "AmNXRXLAr2yf"
      }
    },
    {
      "cell_type": "code",
      "source": [
        "print(5==5.0)"
      ],
      "metadata": {
        "colab": {
          "base_uri": "https://localhost:8080/"
        },
        "id": "EixXKtjvsBfR",
        "outputId": "6d8fec07-3266-4c3a-9304-8b577c786d3c"
      },
      "execution_count": 25,
      "outputs": [
        {
          "output_type": "stream",
          "name": "stdout",
          "text": [
            "True\n"
          ]
        }
      ]
    },
    {
      "cell_type": "markdown",
      "source": [
        "20. What is the output of the following code\n",
        "x=(1,2,3),\n",
        "y=x+(4,),\n",
        "print(y)"
      ],
      "metadata": {
        "id": "iYMCeEEYsF8N"
      }
    },
    {
      "cell_type": "code",
      "source": [
        "x=(1,2,3)\n",
        "y=x+(4,)\n",
        "print(y)"
      ],
      "metadata": {
        "colab": {
          "base_uri": "https://localhost:8080/"
        },
        "id": "ZwEUUwgbsSsn",
        "outputId": "d095ec86-0ea7-4421-9f93-f9e5b1fbcb4f"
      },
      "execution_count": 26,
      "outputs": [
        {
          "output_type": "stream",
          "name": "stdout",
          "text": [
            "(1, 2, 3, 4)\n"
          ]
        }
      ]
    },
    {
      "cell_type": "markdown",
      "source": [],
      "metadata": {
        "id": "vu4V8OmNpxTn"
      }
    },
    {
      "cell_type": "code",
      "source": [],
      "metadata": {
        "id": "qDkMIMpzpSCw"
      },
      "execution_count": null,
      "outputs": []
    }
  ]
}